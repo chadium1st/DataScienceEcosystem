{
  "nbformat": 4,
  "nbformat_minor": 0,
  "metadata": {
    "colab": {
      "provenance": []
    },
    "kernelspec": {
      "name": "python3",
      "display_name": "Python 3"
    },
    "language_info": {
      "name": "python"
    }
  },
  "cells": [
    {
      "cell_type": "markdown",
      "source": [
        "<h1>Data Science Tools and Ecosystem</h1>"
      ],
      "metadata": {
        "id": "k8EDTWQ9YnBx"
      }
    },
    {
      "cell_type": "markdown",
      "source": [
        "In this notebook, Data Science Tools and Ecosystem are summarized."
      ],
      "metadata": {
        "id": "HcNG_g4rZEFl"
      }
    },
    {
      "cell_type": "markdown",
      "source": [
        "**Objectives:**\n",
        "<ul>\n",
        "<li>Popular Languages used for Data Science</li>\n",
        "<li>Common libraries used by Data Scientists</li>\n",
        "<li>Code to Convert Minutes into Hours</li>\n",
        "</ul>"
      ],
      "metadata": {
        "id": "pOq6oIeyc5Q6"
      }
    },
    {
      "cell_type": "markdown",
      "source": [
        "Some of the popular languages that Data Scientists use are:\n",
        "1. R\n",
        "2. Python\n",
        "3. Julia\n",
        "4. Scala"
      ],
      "metadata": {
        "id": "Rr2fBUDTZ1Om"
      }
    },
    {
      "cell_type": "markdown",
      "source": [
        "Some of the commonly used libraries used by Data Scientists include:\n",
        "1. TensorFlow\n",
        "2. NumPy\n",
        "3. Keras\n",
        "4. Pandas"
      ],
      "metadata": {
        "id": "DCdxIW0eaYYO"
      }
    },
    {
      "cell_type": "markdown",
      "source": [
        "<table>\n",
        "\n",
        "<tr>\n",
        "<th> Data Science Tools </th>\n",
        "</tr>\n",
        "\n",
        "<tr>\n",
        "<td>R Studio</td>\n",
        "</tr>\n",
        "\n",
        "<tr>\n",
        "<td>TensorFlow</td>\n",
        "</tr>\n",
        "\n",
        "<tr>\n",
        "<td>Apache Hadoop</td>\n",
        "</tr>\n",
        "\n",
        "</table>"
      ],
      "metadata": {
        "id": "mVFO48uMbFPz"
      }
    },
    {
      "cell_type": "markdown",
      "source": [
        "<h3>Below are a few examples of evaluating arithmetic expressions in Python</h3>"
      ],
      "metadata": {
        "id": "dPw0zCyLby0x"
      }
    },
    {
      "cell_type": "code",
      "execution_count": 2,
      "metadata": {
        "colab": {
          "base_uri": "https://localhost:8080/"
        },
        "id": "617uGSjmYanJ",
        "outputId": "41e55ae8-8853-4988-da9c-4d4b93e58de3"
      },
      "outputs": [
        {
          "output_type": "execute_result",
          "data": {
            "text/plain": [
              "17"
            ]
          },
          "metadata": {},
          "execution_count": 2
        }
      ],
      "source": [
        "# This a simple arithmetic expression to mutiply then add integers:\n",
        "(3*4)+5"
      ]
    },
    {
      "cell_type": "code",
      "source": [
        "# This will convert 200 minutes to hours by diving by 60:\n",
        "minutes = 200;\n",
        "hour = minutes / 60;\n",
        "print(hour)"
      ],
      "metadata": {
        "colab": {
          "base_uri": "https://localhost:8080/"
        },
        "id": "4wLleVDlcglc",
        "outputId": "f86efd82-48f5-4e5c-c1bf-e162f8166c6c"
      },
      "execution_count": 3,
      "outputs": [
        {
          "output_type": "stream",
          "name": "stdout",
          "text": [
            "3.3333333333333335\n"
          ]
        }
      ]
    },
    {
      "cell_type": "markdown",
      "source": [],
      "metadata": {
        "id": "M1p2vzd1cvVr"
      }
    },
    {
      "cell_type": "markdown",
      "source": [
        "<h2> Author </h2>\n",
        "<p>Ismail Ahmed</p>\n",
        "\n"
      ],
      "metadata": {
        "id": "EjhuWQqPdhkG"
      }
    }
  ]
}